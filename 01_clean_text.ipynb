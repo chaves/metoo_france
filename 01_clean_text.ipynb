{
 "cells": [
  {
   "cell_type": "code",
   "execution_count": 1,
   "metadata": {},
   "outputs": [
    {
     "name": "stdout",
     "output_type": "stream",
     "text": [
      "Reading twitter - 1grams ...\n",
      "Reading twitter - 2grams ...\n"
     ]
    }
   ],
   "source": [
    "import pandas as pd\n",
    "pd.set_option('display.max_rows', 500)\n",
    "pd.set_option('display.max_columns', 500)\n",
    "pd.set_option('display.width', 1000)\n",
    "\n",
    "from ftfy import fix_text\n",
    "import html\n",
    "import string\n",
    "import unidecode\n",
    "import re\n",
    "import sys\n",
    "\n",
    "import warnings\n",
    "warnings.filterwarnings('ignore')\n",
    "\n",
    "from ekphrasis.classes.segmenter import Segmenter\n",
    "seg_tw = Segmenter(corpus=\"twitter\")\n",
    "\n",
    "import swifter"
   ]
  },
  {
   "cell_type": "code",
   "execution_count": 2,
   "metadata": {},
   "outputs": [],
   "source": [
    "df = pd.read_pickle('_outputs/harassement.pickle')"
   ]
  },
  {
   "cell_type": "code",
   "execution_count": 3,
   "metadata": {},
   "outputs": [
    {
     "data": {
      "text/html": [
       "<div>\n",
       "<style scoped>\n",
       "    .dataframe tbody tr th:only-of-type {\n",
       "        vertical-align: middle;\n",
       "    }\n",
       "\n",
       "    .dataframe tbody tr th {\n",
       "        vertical-align: top;\n",
       "    }\n",
       "\n",
       "    .dataframe thead th {\n",
       "        text-align: right;\n",
       "    }\n",
       "</style>\n",
       "<table border=\"1\" class=\"dataframe\">\n",
       "  <thead>\n",
       "    <tr style=\"text-align: right;\">\n",
       "      <th></th>\n",
       "      <th>index</th>\n",
       "      <th>username_tweet</th>\n",
       "      <th>id</th>\n",
       "      <th>text</th>\n",
       "      <th>url</th>\n",
       "      <th>nbr_retweet</th>\n",
       "      <th>nbr_favorite</th>\n",
       "      <th>nbr_reply</th>\n",
       "      <th>datetime</th>\n",
       "      <th>has_media</th>\n",
       "      <th>is_reply</th>\n",
       "      <th>is_retweet</th>\n",
       "      <th>is_quote</th>\n",
       "      <th>user_id</th>\n",
       "    </tr>\n",
       "  </thead>\n",
       "  <tbody>\n",
       "    <tr>\n",
       "      <th>0</th>\n",
       "      <td>0</td>\n",
       "      <td>herveresse</td>\n",
       "      <td>1050078551687524358</td>\n",
       "      <td>Un an après #metoo   ou #balancetonporc , Rapp...</td>\n",
       "      <td>/herveresse/status/1050078551687524358</td>\n",
       "      <td>0</td>\n",
       "      <td>0</td>\n",
       "      <td>0</td>\n",
       "      <td>2018-10-10 19:40:10</td>\n",
       "      <td>1.0</td>\n",
       "      <td>0</td>\n",
       "      <td>0</td>\n",
       "      <td>0</td>\n",
       "      <td>18739382</td>\n",
       "    </tr>\n",
       "    <tr>\n",
       "      <th>1</th>\n",
       "      <td>1</td>\n",
       "      <td>LettreAudio</td>\n",
       "      <td>1044325242766807042</td>\n",
       "      <td>Hâte de participer à cette table ronde à #Wash...</td>\n",
       "      <td>/LettreAudio/status/1044325242766807042</td>\n",
       "      <td>0</td>\n",
       "      <td>2</td>\n",
       "      <td>0</td>\n",
       "      <td>2018-09-24 22:38:35</td>\n",
       "      <td>NaN</td>\n",
       "      <td>0</td>\n",
       "      <td>0</td>\n",
       "      <td>0</td>\n",
       "      <td>189869909</td>\n",
       "    </tr>\n",
       "  </tbody>\n",
       "</table>\n",
       "</div>"
      ],
      "text/plain": [
       "   index username_tweet                   id                                               text                                      url  nbr_retweet  nbr_favorite  nbr_reply             datetime  has_media  is_reply  is_retweet  is_quote    user_id\n",
       "0      0     herveresse  1050078551687524358  Un an après #metoo   ou #balancetonporc , Rapp...   /herveresse/status/1050078551687524358            0             0          0  2018-10-10 19:40:10        1.0         0           0         0   18739382\n",
       "1      1    LettreAudio  1044325242766807042  Hâte de participer à cette table ronde à #Wash...  /LettreAudio/status/1044325242766807042            0             2          0  2018-09-24 22:38:35        NaN         0           0         0  189869909"
      ]
     },
     "execution_count": 3,
     "metadata": {},
     "output_type": "execute_result"
    }
   ],
   "source": [
    "df.head(2)"
   ]
  },
  {
   "cell_type": "code",
   "execution_count": 4,
   "metadata": {},
   "outputs": [
    {
     "data": {
      "text/plain": [
       "199827"
      ]
     },
     "execution_count": 4,
     "metadata": {},
     "output_type": "execute_result"
    }
   ],
   "source": [
    "len(df)"
   ]
  },
  {
   "cell_type": "code",
   "execution_count": 5,
   "metadata": {},
   "outputs": [],
   "source": [
    "remove_encoding_errors = lambda tweet: re.sub(r\"\\\\\\S+\", r'', tweet, flags=re.MULTILINE)\n",
    "# https://regex101.com/r/aIYcKR/1/\n",
    "\n",
    "no_links_http = lambda tweet: re.sub(r'https?:\\/\\/(www\\.)?[-a-zA-Z0-9@:%._\\+~#=]{2,256}\\.[a-z]{2,6}\\b([-a-zA-Z0-9@:%_\\+.~#?&//=]*)', '', tweet, flags=re.MULTILINE) # no links\n",
    "# no_www = lambda tweet: re.sub(r\"www\\.\\S+\", '', tweet, flags=re.MULTILINE)\n",
    "no_www = lambda tweet: re.sub(r\"www\\S*\", '', tweet, flags=re.MULTILINE) # cas où ça coupe après www\n",
    "\n",
    "# https://regex101.com/r/M0MrfJ/2\n",
    "no_http = lambda tweet: re.sub(r\"http\\S*\", '', tweet, flags=re.MULTILINE) # cas où ça coupe après http\n",
    "\n",
    "no_url_queries = lambda tweet: re.sub(r\"([\\S]*[?/&=%]\\S+)\", '', tweet, flags=re.MULTILINE)\n",
    "# https://regex101.com/r/ORoXn5/5\n",
    "\n",
    "no_remaining_http = lambda tweet: re.sub(r\"https?\", '', tweet, flags=re.MULTILINE)\n",
    "# https://regex101.com/r/Cr9IzK/2/\n",
    "\n",
    "punct_as_separators = lambda tweet: re.sub(r\"(\\S)[#,.+*](\\S)\", r'\\1 \\2', tweet, flags=re.MULTILINE)\n",
    "# https://regex101.com/r/9xjwh0/1/\n",
    "\n",
    "all_hasgtags = lambda tweet: re.findall(r\"#(\\w+)\", tweet)\n",
    "all_mentions_hashtags_with_spaces = lambda tweet: re.findall(r\"[@#]\\s+\\S+\", tweet, flags=re.MULTILINE)\n",
    "# https://regex101.com/r/wB8CSx/2/\n",
    "\n",
    "# no_mentions = lambda tweet: re.sub(r\"@(\\w+)\", ' ', tweet, flags=re.MULTILINE)\n",
    "\n",
    "no_digits = str.maketrans(string.digits, ' '*len(string.digits))\n",
    "\n",
    "# https://stackoverflow.com/questions/34860982/replace-the-punctuation-with-whitespace\n",
    "punctuation_to_space = lambda tweet: re.sub(r\"[(){}\\\"'’,.;@#?!&%$/\\\\]+\\ *\", \" \", tweet)\n",
    "\n",
    "no_more_than_20 = lambda tweet: ' '.join(word for word in tweet.split() if len(word) <= 20)\n",
    "no_less_than_3 = lambda tweet: ' '.join(word for word in tweet.split() if len(word) >= 3)\n",
    "\n",
    "no_files_extensions_and_too = lambda tweet : re.sub(r'\\bhtml\\b|\\bphp\\b|\\btoo\\b', \" \", tweet)"
   ]
  },
  {
   "cell_type": "code",
   "execution_count": 6,
   "metadata": {},
   "outputs": [],
   "source": [
    "def clean_hashtags_mentions(tweet):\n",
    "    mh_old = all_mentions_hashtags_with_spaces(tweet)\n",
    "    mh_new = [m.replace(' ', '') for m in mh_old]\n",
    "    tuples = zip(mh_old, mh_new)\n",
    "    for t in tuples:\n",
    "        tweet =tweet.replace(t[0], t[1])\n",
    "    return tweet"
   ]
  },
  {
   "cell_type": "code",
   "execution_count": 7,
   "metadata": {},
   "outputs": [],
   "source": [
    "def convert_hashtags(tweet):\n",
    "    hasgtags = all_hasgtags(tweet)\n",
    "    for h in hasgtags:\n",
    "        h_extended = seg_tw.segment(h)\n",
    "        tweet = tweet.replace('#{}'.format(h),h_extended)\n",
    "    return tweet"
   ]
  },
  {
   "cell_type": "code",
   "execution_count": 8,
   "metadata": {},
   "outputs": [],
   "source": [
    "# https://stackoverflow.com/a/49146722/330558\n",
    "def remove_emoji(string):\n",
    "    emoji_pattern = re.compile(\"[\"\n",
    "                           u\"\\U0001F600-\\U0001F64F\"  # emoticons\n",
    "                           u\"\\U0001F300-\\U0001F5FF\"  # symbols & pictographs\n",
    "                           u\"\\U0001F680-\\U0001F6FF\"  # transport & map symbols\n",
    "                           u\"\\U0001F1E0-\\U0001F1FF\"  # flags (iOS)\n",
    "                           u\"\\U00002702-\\U000027B0\"\n",
    "                           u\"\\U000024C2-\\U0001F251\"\n",
    "                           \"]+\", flags=re.UNICODE)\n",
    "    return emoji_pattern.sub(r'', string)"
   ]
  },
  {
   "cell_type": "code",
   "execution_count": 9,
   "metadata": {},
   "outputs": [],
   "source": [
    "def clean_text(tweet):\n",
    "    \n",
    "    # Formatage\n",
    "    tweet = remove_encoding_errors(tweet) # \\\\xe2\\\\x80\\\\xb\n",
    "    tweet = fix_text(tweet) # Fix unicode\n",
    "    ## fix_text('uÌˆnicode') -> ünicode\n",
    "    tweet = html.unescape(tweet) # Fix unescape html special caracters\n",
    "    \n",
    "    tweet = remove_emoji(tweet)\n",
    "    \n",
    "    tweet = tweet.replace('\\n', ' ').replace('\\r', '') # replace line breaks with spaces, removes carriage returns\n",
    "\n",
    "    tweet = tweet.strip() # Strip spaces\n",
    "    \n",
    "    tweet = tweet.lower()\n",
    "        \n",
    "    # Liens OK\n",
    "    tweet = no_links_http(tweet) # No links with http(s)\n",
    "    tweet = no_www(tweet) # no remaining www\n",
    "    tweet = no_http(tweet) # no remaining http\n",
    "    \n",
    "    # Liens cassés\n",
    "    tweet = no_url_queries(tweet) # No url queries when there ara spaces between the http(s) and url queries\n",
    "    tweet = no_remaining_http(tweet) # remaining http(s)\n",
    "    \n",
    "    #listes : win,food,clothes,groceries\n",
    "    tweet = punct_as_separators(tweet)\n",
    "    \n",
    "    #hashtags\n",
    "    tweet = clean_hashtags_mentions(tweet) # when there are spaces between # or @ and the text\n",
    "    tweet = convert_hashtags(tweet) # expand hashtags\n",
    "    \n",
    "    # remove mentions\n",
    "    # tweet = no_mentions(tweet)\n",
    "    \n",
    "    # no digits\n",
    "    tweet = tweet.translate(no_digits)\n",
    "    \n",
    "    tweet = punctuation_to_space(tweet)\n",
    "    \n",
    "    tweet = no_more_than_20(tweet) # no more than 20 characters\n",
    "    \n",
    "    tweet = no_less_than_3(tweet)\n",
    "    \n",
    "    tweet = no_files_extensions_and_too(tweet) # remove file extensions and too of #metoo since hashtags are expanded\n",
    "    \n",
    "    tweet = \" \".join(tweet.split()) #remove multiple spaces\n",
    "    \n",
    "    return tweet"
   ]
  },
  {
   "cell_type": "code",
   "execution_count": 10,
   "metadata": {},
   "outputs": [
    {
     "name": "stderr",
     "output_type": "stream",
     "text": [
      "Pandas Apply: 100%|██████████| 199827/199827 [02:40<00:00, 1242.67it/s]\n"
     ]
    }
   ],
   "source": [
    "df['clean_text'] = df.text.swifter.apply(clean_text)"
   ]
  },
  {
   "cell_type": "code",
   "execution_count": 11,
   "metadata": {},
   "outputs": [
    {
     "data": {
      "text/html": [
       "<div>\n",
       "<style scoped>\n",
       "    .dataframe tbody tr th:only-of-type {\n",
       "        vertical-align: middle;\n",
       "    }\n",
       "\n",
       "    .dataframe tbody tr th {\n",
       "        vertical-align: top;\n",
       "    }\n",
       "\n",
       "    .dataframe thead th {\n",
       "        text-align: right;\n",
       "    }\n",
       "</style>\n",
       "<table border=\"1\" class=\"dataframe\">\n",
       "  <thead>\n",
       "    <tr style=\"text-align: right;\">\n",
       "      <th></th>\n",
       "      <th>index</th>\n",
       "      <th>username_tweet</th>\n",
       "      <th>id</th>\n",
       "      <th>text</th>\n",
       "      <th>url</th>\n",
       "      <th>nbr_retweet</th>\n",
       "      <th>nbr_favorite</th>\n",
       "      <th>nbr_reply</th>\n",
       "      <th>datetime</th>\n",
       "      <th>has_media</th>\n",
       "      <th>is_reply</th>\n",
       "      <th>is_retweet</th>\n",
       "      <th>is_quote</th>\n",
       "      <th>user_id</th>\n",
       "      <th>clean_text</th>\n",
       "    </tr>\n",
       "  </thead>\n",
       "  <tbody>\n",
       "    <tr>\n",
       "      <th>0</th>\n",
       "      <td>0</td>\n",
       "      <td>herveresse</td>\n",
       "      <td>1050078551687524358</td>\n",
       "      <td>Un an après #metoo   ou #balancetonporc , Rapp...</td>\n",
       "      <td>/herveresse/status/1050078551687524358</td>\n",
       "      <td>0</td>\n",
       "      <td>0</td>\n",
       "      <td>0</td>\n",
       "      <td>2018-10-10 19:40:10</td>\n",
       "      <td>1.0</td>\n",
       "      <td>0</td>\n",
       "      <td>0</td>\n",
       "      <td>0</td>\n",
       "      <td>18739382</td>\n",
       "      <td>après balance ton porc rappel règles homme cis...</td>\n",
       "    </tr>\n",
       "    <tr>\n",
       "      <th>1</th>\n",
       "      <td>1</td>\n",
       "      <td>LettreAudio</td>\n",
       "      <td>1044325242766807042</td>\n",
       "      <td>Hâte de participer à cette table ronde à #Wash...</td>\n",
       "      <td>/LettreAudio/status/1044325242766807042</td>\n",
       "      <td>0</td>\n",
       "      <td>2</td>\n",
       "      <td>0</td>\n",
       "      <td>2018-09-24 22:38:35</td>\n",
       "      <td>NaN</td>\n",
       "      <td>0</td>\n",
       "      <td>0</td>\n",
       "      <td>0</td>\n",
       "      <td>189869909</td>\n",
       "      <td>hâte participer cette table ronde washington a...</td>\n",
       "    </tr>\n",
       "  </tbody>\n",
       "</table>\n",
       "</div>"
      ],
      "text/plain": [
       "   index username_tweet                   id                                               text                                      url  nbr_retweet  nbr_favorite  nbr_reply             datetime  has_media  is_reply  is_retweet  is_quote    user_id                                         clean_text\n",
       "0      0     herveresse  1050078551687524358  Un an après #metoo   ou #balancetonporc , Rapp...   /herveresse/status/1050078551687524358            0             0          0  2018-10-10 19:40:10        1.0         0           0         0   18739382  après balance ton porc rappel règles homme cis...\n",
       "1      1    LettreAudio  1044325242766807042  Hâte de participer à cette table ronde à #Wash...  /LettreAudio/status/1044325242766807042            0             2          0  2018-09-24 22:38:35        NaN         0           0         0  189869909  hâte participer cette table ronde washington a..."
      ]
     },
     "execution_count": 11,
     "metadata": {},
     "output_type": "execute_result"
    }
   ],
   "source": [
    "df.head(2)"
   ]
  },
  {
   "cell_type": "code",
   "execution_count": 12,
   "metadata": {},
   "outputs": [
    {
     "data": {
      "text/plain": [
       "0     après balance ton porc rappel règles homme cis...\n",
       "1     hâte participer cette table ronde washington a...\n",
       "2     est une histoire malheureusement réelle qui es...\n",
       "3     juillet gouvernement baissé budget des droits ...\n",
       "4     holy wood babylon tempera feuille sujet affair...\n",
       "5     autant adhéré hashtag autant étais réservée su...\n",
       "6     without becoming victime perpétuelle you can s...\n",
       "7     french labour law how react situation sexual m...\n",
       "8     balance ton porc balance ton racist esclavagel...\n",
       "9     balance ton porc une bonne une mauvaise idée g...\n",
       "10    mère trint ignant aimait tout simplement pas f...\n",
       "11    gauguin pas drogue jeunes filles ans pour les ...\n",
       "12    est marrant que meme apres morandiniblog soit ...\n",
       "13    non pas pro-metoo jamais défendu mouvement par...\n",
       "14    seule rencontre avec intime peut tuer démon pr...\n",
       "15    vous allez surtout assister une révolution soc...\n",
       "16    millions spectateurs accuse romanpolanski mill...\n",
       "17    tribune editionshermann sur hashtag fonction d...\n",
       "18    debat paroles femmes poesie est mercredi décem...\n",
       "19    ceux qui avancent que affaire dreyfus est suje...\n",
       "Name: clean_text, dtype: object"
      ]
     },
     "execution_count": 12,
     "metadata": {},
     "output_type": "execute_result"
    }
   ],
   "source": [
    "df[:20]['clean_text']"
   ]
  },
  {
   "cell_type": "code",
   "execution_count": null,
   "metadata": {},
   "outputs": [],
   "source": []
  },
  {
   "cell_type": "code",
   "execution_count": 13,
   "metadata": {},
   "outputs": [],
   "source": [
    "df.to_pickle('_outputs/harassement_clean.pickle')"
   ]
  },
  {
   "cell_type": "code",
   "execution_count": null,
   "metadata": {},
   "outputs": [],
   "source": []
  }
 ],
 "metadata": {
  "kernelspec": {
   "display_name": "Python 3.6.9 64-bit ('base': conda)",
   "language": "python",
   "name": "python36964bitbaseconda3b4fe0d057834456b5ea594cd377cf99"
  },
  "language_info": {
   "codemirror_mode": {
    "name": "ipython",
    "version": 3
   },
   "file_extension": ".py",
   "mimetype": "text/x-python",
   "name": "python",
   "nbconvert_exporter": "python",
   "pygments_lexer": "ipython3",
   "version": "3.6.9"
  }
 },
 "nbformat": 4,
 "nbformat_minor": 2
}
